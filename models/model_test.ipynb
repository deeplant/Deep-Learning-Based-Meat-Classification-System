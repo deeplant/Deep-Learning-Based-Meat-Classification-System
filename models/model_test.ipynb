{
 "cells": [
  {
   "cell_type": "code",
   "execution_count": null,
   "metadata": {},
   "outputs": [],
   "source": [
    "import timm\n",
    "import torch\n",
    "import torch.nn as nn"
   ]
  },
  {
   "cell_type": "code",
   "execution_count": null,
   "metadata": {},
   "outputs": [],
   "source": [
    "class BaseModel(nn.Module):\n",
    "    def __init__(self, model_name, pretrained, num_classes, in_chans):\n",
    "        super(BaseModel, self).__init__()\n",
    "        self.base_model = timm.create_model(model_name=model_name, pretrained=pretrained, num_classes=num_classes, in_chans=in_chans)\n",
    "\n",
    "    def forward(self, x):\n",
    "        x = self.base_model(x)\n",
    "        return x"
   ]
  },
  {
   "cell_type": "code",
   "execution_count": null,
   "metadata": {},
   "outputs": [],
   "source": [
    "class MLP_layer(nn.Module):\n",
    "    def __init__(self, base_model, out_dim):\n",
    "        super().__init__()\n",
    "        self.base_model = base_model\n",
    "        self.out_dim = out_dim\n",
    "\n",
    "        if out_dim > 0:\n",
    "            self.num_features = self.base_model.base_model.num_features\n",
    "            \n",
    "            # out_dim 개수만큼 MLP 생성\n",
    "            self.mlp_heads = nn.ModuleList([\n",
    "                nn.Sequential(\n",
    "                    nn.Linear(self.num_features, 64),\n",
    "                    nn.ReLU(),\n",
    "                    nn.Linear(64, 1)\n",
    "                ) for _ in range(out_dim)\n",
    "            ])\n",
    "        else:\n",
    "            self.mlp_heads = None\n",
    "\n",
    "    def forward(self, x):\n",
    "        base_output = self.base_model(x)\n",
    "        \n",
    "        if self.out_dim > 0:\n",
    "            features = base_output\n",
    "\n",
    "            outputs = [head(features) for head in self.mlp_heads]\n",
    "            return torch.cat(outputs, dim=1)\n",
    "        else:\n",
    "            \n",
    "            return base_output"
   ]
  },
  {
   "cell_type": "code",
   "execution_count": null,
   "metadata": {},
   "outputs": [],
   "source": [
    "def create_model(model_name, pretrained, num_classes, in_chans, out_dim):\n",
    "\n",
    "    if out_dim <= 0:\n",
    "        print(\"분류 작업 진행: out_dim이 0 이하입니다.\")\n",
    "\n",
    "    base_model = BaseModel(model_name, pretrained, num_classes, in_chans)\n",
    "    model = MLP_layer(base_model, out_dim)\n",
    "\n",
    "    return model"
   ]
  },
  {
   "cell_type": "code",
   "execution_count": null,
   "metadata": {},
   "outputs": [],
   "source": [
    "model_name = 'vit_base_r50_s16_224.orig_in21k'\n",
    "pretrained = True\n",
    "num_classes = 0\n",
    "in_chans = 3\n",
    "out_dim = 5\n",
    "\n",
    "model = create_model(model_name, pretrained, num_classes, in_chans, out_dim)\n",
    "\n",
    "print(model)"
   ]
  }
 ],
 "metadata": {
  "language_info": {
   "name": "python"
  }
 },
 "nbformat": 4,
 "nbformat_minor": 2
}
