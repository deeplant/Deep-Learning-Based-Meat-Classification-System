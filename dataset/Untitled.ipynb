{
 "cells": [
  {
   "cell_type": "code",
   "execution_count": 2,
   "id": "994e218b",
   "metadata": {},
   "outputs": [
    {
     "name": "stderr",
     "output_type": "stream",
     "text": [
      "Compressing files: 100% 11126/11126 [17:06<00:00, 10.84file/s]\n"
     ]
    },
    {
     "name": "stdout",
     "output_type": "stream",
     "text": [
      "meat_dataset.zip 파일이 생성되었습니다.\n"
     ]
    }
   ],
   "source": [
    "import zipfile\n",
    "import os\n",
    "from tqdm import tqdm\n",
    "\n",
    "# 압축할 폴더 경로와 압축 파일 이름 설정\n",
    "folder_path = 'meat_dataset'\n",
    "zip_file_name = 'meat_dataset.zip'\n",
    "\n",
    "# 압축할 파일 리스트 가져오기\n",
    "file_list = [os.path.join(root, file) for root, _, files in os.walk(folder_path) for file in files]\n",
    "\n",
    "# zip 파일 생성\n",
    "with zipfile.ZipFile(zip_file_name, 'w', zipfile.ZIP_DEFLATED) as zipf:\n",
    "    for file_path in tqdm(file_list, desc=\"Compressing files\", unit=\"file\"):\n",
    "        # zip 파일에 파일 추가 (상대 경로 사용)\n",
    "        zipf.write(file_path, os.path.relpath(file_path, folder_path))\n",
    "\n",
    "print(f\"{zip_file_name} 파일이 생성되었습니다.\")\n"
   ]
  },
  {
   "cell_type": "code",
   "execution_count": null,
   "id": "1c0ef0f7",
   "metadata": {},
   "outputs": [],
   "source": []
  }
 ],
 "metadata": {
  "kernelspec": {
   "display_name": "PyTorch 2.2 (NGC 23.11/Python 3.10) on Backend.AI",
   "language": "python",
   "name": "python3"
  },
  "language_info": {
   "codemirror_mode": {
    "name": "ipython",
    "version": 3
   },
   "file_extension": ".py",
   "mimetype": "text/x-python",
   "name": "python",
   "nbconvert_exporter": "python",
   "pygments_lexer": "ipython3",
   "version": "3.10.12"
  }
 },
 "nbformat": 4,
 "nbformat_minor": 5
}
