{
 "cells": [
  {
   "cell_type": "code",
   "execution_count": 1,
   "id": "0f808faa",
   "metadata": {},
   "outputs": [],
   "source": [
    "import pandas as pd\n",
    "import numpy as np\n",
    "from sklearn.preprocessing import StandardScaler\n",
    "\n",
    "def split_data_and_save(csv, output_columns, save_path, flip_grade='등심3', n_splits=5):\n",
    "    fold_data = [[] for _ in range(n_splits)]\n",
    "    fold_sizes = [0] * n_splits\n",
    "    \n",
    "    # grade별로 데이터를 나누어 fold에 분배\n",
    "    for grade in csv['grade'].unique():\n",
    "        grade_data = csv[csv['grade'] == grade].copy()\n",
    "        \n",
    "        # Output columns을 정규화하여 combined_score 생성\n",
    "        scaler = StandardScaler()\n",
    "        normalized_labels = scaler.fit_transform(grade_data[output_columns])\n",
    "        \n",
    "        grade_data['combined_score'] = np.mean(normalized_labels, axis=1)\n",
    "        \n",
    "        # No 기준으로 그룹화하여 combined_score 기준으로 정렬\n",
    "        grouped = grade_data.groupby('No')\n",
    "        group_scores = grouped['combined_score'].mean().sort_values()\n",
    "        group_sizes = grouped.size()\n",
    "        sorted_groups = list(group_scores.index)\n",
    "        \n",
    "        # 각 그룹을 fold에 분배\n",
    "        for no in sorted_groups:\n",
    "            group_size = group_sizes[no]\n",
    "            group_data = grade_data[grade_data['No'] == no]\n",
    "            \n",
    "            target_fold = min(range(n_splits), key=lambda i: fold_sizes[i])\n",
    "            fold_data[target_fold].extend(group_data.to_dict('records'))\n",
    "            fold_sizes[target_fold] += group_size\n",
    "    \n",
    "    # Fold를 DataFrame으로 변환\n",
    "    fold_data = [pd.DataFrame(fold).drop(columns=['combined_score'], errors='ignore') for fold in fold_data]\n",
    "    \n",
    "    # Fold 0~3을 train으로, Fold 4를 validation으로 설정\n",
    "    train_folds = pd.concat(fold_data[:n_splits-1], ignore_index=True)\n",
    "    val_fold = fold_data[n_splits-1]\n",
    "    \n",
    "    # Train set에만 flip을 적용\n",
    "    train_folds = add_flipped_images_to_dataset(train_folds, grade=flip_grade)\n",
    "    \n",
    "    # Train과 Validation 세트를 각각 파일로 저장\n",
    "    train_folds.to_csv(f\"{save_path}/1211_train_4.csv\", index=False)\n",
    "    val_fold.to_csv(f\"{save_path}/1211_val_1.csv\", index=False)\n",
    "    \n",
    "    print(\"Train and Validation CSV files saved.\")\n",
    "\n",
    "def add_flipped_images_to_dataset(df, grade='등심3'):\n",
    "    original_grade_count = len(df[df['grade'] == grade])\n",
    "    flipped_rows = []\n",
    "    \n",
    "    for _, row in df[df['grade'] == grade].iterrows():\n",
    "        flipped_row = row.copy()\n",
    "        flipped_row['is_flipped'] = True\n",
    "        flipped_rows.append(flipped_row)\n",
    "    \n",
    "    df_flipped = pd.DataFrame(flipped_rows)\n",
    "    df = pd.concat([df, df_flipped], ignore_index=True)\n",
    "    \n",
    "    new_grade_count = len(df[df['grade'] == grade])\n",
    "    \n",
    "    print(f\"Added flipped images for {grade}. Original count: {original_grade_count}, New total for {grade}: {new_grade_count}\")\n",
    "    \n",
    "    return df\n"
   ]
  },
  {
   "cell_type": "code",
   "execution_count": 2,
   "id": "c4879b4c",
   "metadata": {},
   "outputs": [
    {
     "name": "stdout",
     "output_type": "stream",
     "text": [
      "Added flipped images for 등심3. Original count: 29, New total for 등심3: 58\n",
      "Train and Validation CSV files saved.\n"
     ]
    }
   ],
   "source": [
    "csv_path = '../dataset/only_new_1211.csv'\n",
    "csv = pd.read_csv(csv_path)\n",
    "save_path = '../dataset'\n",
    "output_columns = [\"Marbling\", \"Color\", \"Texture\", \"Surface_Moisture\", \"Total\"]\n",
    "\n",
    "split_data_and_save(csv, output_columns, save_path, n_splits=5)"
   ]
  },
  {
   "cell_type": "code",
   "execution_count": null,
   "id": "1804f70a",
   "metadata": {},
   "outputs": [],
   "source": []
  }
 ],
 "metadata": {
  "kernelspec": {
   "display_name": "PyTorch 2.2 (NGC 23.11/Python 3.10) on Backend.AI",
   "language": "python",
   "name": "python3"
  },
  "language_info": {
   "codemirror_mode": {
    "name": "ipython",
    "version": 3
   },
   "file_extension": ".py",
   "mimetype": "text/x-python",
   "name": "python",
   "nbconvert_exporter": "python",
   "pygments_lexer": "ipython3",
   "version": "3.10.12"
  }
 },
 "nbformat": 4,
 "nbformat_minor": 5
}
