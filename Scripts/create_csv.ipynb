{
 "cells": [
  {
   "cell_type": "markdown",
   "metadata": {},
   "source": [
    "csv 파일을 생성하는 코드\n",
    "학습할 때 이미지 경로를 직접 설정하지 않고, csv 파일에서 경로를 불러옴\n",
    "base_directory: 등급 폴더들이 있는 폴더 경로\n",
    "label_directory: 등급별 라벨 엑셀 파일들이 있는 폴더 경로\n",
    "\n",
    "csv 형식\n",
    "\n",
    "No, grade, Marbling, Color, Texture, Surface_Moisture, Total, image_path\n",
    "\n",
    "ex) 123,등심1++,8.0,6.0,8.0,4.0,8.0,./meat_dataset/등심1++/등심1++_000353.jpg\n",
    "\n",
    "\n",
    "경로 설정 방법\n",
    "\n",
    "이미지 경로 설정 방법:\n",
    " - base_directory: 등급 폴더가 있는 폴더의 경로 입력\n",
    " - image_directories: 각 등급에 맞는 base_directory 안의 등급 폴더 경로 입력\n",
    "   ex) image_directories = {'등급': os.path.join(base_directory, '등급 파일 경로')}\n",
    "\n",
    "라벨 경로 설정 방법:\n",
    " - label_directory: 엑셀 라벨 파일들이 있는 폴더 경로\n",
    " - excel_files: 각 등급에 맞는 라벨 엑셀 파일이름 입력\n",
    "\n",
    "\n",
    "이미지 이름 형식: 등심1++_000001.jpg, 등심2_001234.jpg (숫자는 6자리로 패딩)\n",
    "\n",
    "csv에 저장되는 경로 예시: ./dataset/meat_dataset/등심1++_000738.jpg"
   ]
  },
  {
   "cell_type": "code",
   "execution_count": 1,
   "metadata": {},
   "outputs": [],
   "source": [
    "import os\n",
    "import pandas as pd\n",
    "import ast"
   ]
  },
  {
   "cell_type": "code",
   "execution_count": 2,
   "metadata": {},
   "outputs": [],
   "source": [
    "def find_header_row(file_path):\n",
    "    required_columns = ['No', '등급', 'Marbling(마블링정도)', 'Color(색깔)', 'Texture(조직감)', 'Surface Moisture(표면육즙)', 'Total(기호도)']\n",
    "    \n",
    "    # 엑셀 파일을 열고 각 행을 확인\n",
    "    for i in range(20):\n",
    "        df = pd.read_excel(file_path, header=i, nrows=1)\n",
    "        if all(col in df.columns for col in required_columns):\n",
    "            return i\n",
    "    \n",
    "    raise ValueError(f\"Required columns not found in the first 20 rows of {file_path}\")"
   ]
  },
  {
   "cell_type": "code",
   "execution_count": 3,
   "metadata": {},
   "outputs": [],
   "source": [
    "# 제외할 이미지 목록 읽기 함수\n",
    "def read_exclude_list(file_path):\n",
    "    exclude_images = set()\n",
    "    if os.path.exists(file_path):\n",
    "        with open(file_path, 'r') as f:\n",
    "            for line in f:\n",
    "                try:\n",
    "                    # 문자열을 리스트로 변환\n",
    "                    image_list = ast.literal_eval(line.strip())\n",
    "                    # 리스트의 각 이미지를 set에 추가\n",
    "                    exclude_images.update(image_list)\n",
    "                except:\n",
    "                    # 라인을 파싱할 수 없는 경우 무시\n",
    "                    continue\n",
    "    return exclude_images"
   ]
  },
  {
   "cell_type": "code",
   "execution_count": 4,
   "metadata": {},
   "outputs": [],
   "source": [
    "def process_data(base_directory, image_directories, excel_files, output_file):\n",
    "    exclude_file_path1 = '차이_4이상.txt'\n",
    "    exclude_file_path2 = 'nan_값_포함.txt'\n",
    "    exclude_images = read_exclude_list(exclude_file_path1).union(read_exclude_list(exclude_file_path2))\n",
    "    \n",
    "    print(len(exclude_images))\n",
    "    print(next(iter(exclude_images)))\n",
    "\n",
    "    dataframes = []\n",
    "    for grade, file_path in excel_files.items():\n",
    "        try:\n",
    "            header_row = find_header_row(file_path)\n",
    "            df = pd.read_excel(file_path, header=header_row)\n",
    "            \n",
    "            df = df.dropna(subset=['No', '등급'])\n",
    "            df = df.dropna(subset=['Marbling(마블링정도)', 'Color(색깔)', 'Texture(조직감)', 'Surface Moisture(표면육즙)', 'Total(기호도)'])\n",
    "            \n",
    "            columns_to_check = ['Marbling(마블링정도)', 'Color(색깔)', 'Texture(조직감)', 'Surface Moisture(표면육즙)', 'Total(기호도)']\n",
    "            for column in columns_to_check:\n",
    "                df = df[pd.to_numeric(df[column], errors='coerce').notnull()]\n",
    "#                 df[column] = df[column].astype(float) * 2\n",
    "            \n",
    "            # 등심1에 대해서만 No 값 조정\n",
    "            if grade == '등심1':\n",
    "                df['No'] = df['No'].apply(lambda x: x - 1 if x > 103 else x)\n",
    "\n",
    "            # '등급' 열을 기준으로 이미지 경로 설정\n",
    "            df['image_path'] = df.apply(lambda row: os.path.join(image_directories[grade], f\"{grade}_{int(row['No']):06d}.jpg\"), axis=1)\n",
    "            \n",
    "            # 존재하는 이미지 파일만 필터링하고 제외 목록에 없는 이미지만 선택\n",
    "            df = df[df['image_path'].apply(lambda x: os.path.exists(x) and os.path.basename(x) not in exclude_images)]\n",
    "            \n",
    "            # 유효한 파일 경로가 몇 개인지 로그 출력\n",
    "            max_no = df['No'].max()\n",
    "            print(f\"Filtered valid image paths for {grade}: {len(df)} / {max_no}\")\n",
    "            \n",
    "            dataframes.append(df)\n",
    "\n",
    "        except ValueError as e:\n",
    "            print(f\"Error processing {file_path}: {str(e)}\")\n",
    "            continue\n",
    "\n",
    "    # 모든 데이터프레임 병합\n",
    "    all_data = pd.concat(dataframes, ignore_index=True)\n",
    "    all_data.columns = all_data.columns.str.replace(r'\\(.*\\)', '', regex=True).str.strip()\n",
    "    all_data.columns = all_data.columns.str.replace(' ', '_')\n",
    "    \n",
    "    # 필요한 열만 선택 (Total 포함)\n",
    "    all_data = all_data[['No', '등급', 'Marbling', 'Color', 'Texture', 'Surface_Moisture', 'Total', 'image_path']]\n",
    "    \n",
    "    # '등급' 열의 모든 값 앞에 '등심' 추가\n",
    "    all_data['등급'] = '등심' + all_data['등급'].astype(str)\n",
    "\n",
    "    # '등급' 열 이름을 'grade'로 변경\n",
    "    all_data = all_data.rename(columns={'등급': 'grade'})\n",
    "    \n",
    "    # image_path에서 '../' 제거\n",
    "    all_data['image_path'] = all_data['image_path'].str.replace('../', '', 1)\n",
    "\n",
    "    # CSV 파일로 저장\n",
    "    all_data.to_csv(os.path.join('../dataset/', output_file), index=False)\n",
    "    print(f\"Data saved to {os.path.join(base_directory, output_file)}\")\n",
    "\n",
    "    return all_data"
   ]
  },
  {
   "cell_type": "code",
   "execution_count": 5,
   "metadata": {},
   "outputs": [],
   "source": [
    "base_directory = \"../dataset/meat_dataset/\"\n",
    "label_directory = \"../dataset/meat_dataset/labels\"\n",
    "output_file = \"1to5.csv\"\n",
    "\n",
    "# 이미지 파일 경로 설정\n",
    "image_directories = {\n",
    "    '등심1++': os.path.join(base_directory, '등심1++'),\n",
    "    '등심1+': os.path.join(base_directory, '등심1+'),\n",
    "    '등심1': os.path.join(base_directory, '등심1'),\n",
    "    '등심2': os.path.join(base_directory, '등심2'),\n",
    "    '등심3': os.path.join(base_directory, '등심3')\n",
    "}\n",
    "# 엑셀 파일 경로 설정\n",
    "excel_files = {\n",
    "    '등심1++': os.path.join(label_directory, 'label_1++.xlsx'),\n",
    "    '등심1+': os.path.join(label_directory, 'label_1+.xlsx'),\n",
    "    '등심1': os.path.join(label_directory, 'label_1.xlsx'),\n",
    "    '등심2': os.path.join(label_directory, 'label_2.xlsx'),\n",
    "    '등심3': os.path.join(label_directory, 'label_3.xlsx')\n",
    "}"
   ]
  },
  {
   "cell_type": "code",
   "execution_count": 6,
   "metadata": {},
   "outputs": [
    {
     "name": "stdout",
     "output_type": "stream",
     "text": [
      "1604\n",
      "등심2_001147.jpg\n",
      "Filtered valid image paths for 등심1++: 1745 / 2326\n",
      "Filtered valid image paths for 등심1+: 1554 / 2122\n",
      "Filtered valid image paths for 등심1: 1437 / 1921\n",
      "Filtered valid image paths for 등심2: 995 / 1252\n",
      "Filtered valid image paths for 등심3: 434 / 539\n",
      "Data saved to ../dataset/meat_dataset/1to5.csv\n"
     ]
    },
    {
     "name": "stderr",
     "output_type": "stream",
     "text": [
      "/tmp/ipykernel_152209/4191139284.py:58: FutureWarning: The default value of regex will change from True to False in a future version.\n",
      "  all_data['image_path'] = all_data['image_path'].str.replace('../', '', 1)\n"
     ]
    }
   ],
   "source": [
    "processed_data = process_data(base_directory, image_directories, excel_files, output_file)"
   ]
  },
  {
   "cell_type": "code",
   "execution_count": null,
   "metadata": {},
   "outputs": [],
   "source": []
  }
 ],
 "metadata": {
  "kernelspec": {
   "display_name": "PyTorch 2.2 (NGC 23.11/Python 3.10) on Backend.AI",
   "language": "python",
   "name": "python3"
  },
  "language_info": {
   "codemirror_mode": {
    "name": "ipython",
    "version": 3
   },
   "file_extension": ".py",
   "mimetype": "text/x-python",
   "name": "python",
   "nbconvert_exporter": "python",
   "pygments_lexer": "ipython3",
   "version": "3.10.12"
  }
 },
 "nbformat": 4,
 "nbformat_minor": 2
}
