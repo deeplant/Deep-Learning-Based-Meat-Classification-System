{
 "cells": [
  {
   "cell_type": "markdown",
   "metadata": {},
   "source": [
    "csv 파일을 생성하는 코드\n",
    "학습할 때 이미지 경로를 직접 설정하지 않고, csv 파일에서 경로를 불러옴\n",
    "base_directory: 등급 폴더들이 있는 폴더 경로\n",
    "label_directory: 등급별 라벨 엑셀 파일들이 있는 폴더 경로\n",
    "\n",
    "csv 형식\n",
    "\n",
    "No, grade, Marbling, Color, Texture, Surface_Moisture, Total, image_path\n",
    "\n",
    "ex) 123,등심1++,8.0,6.0,8.0,4.0,8.0,./meat_dataset/등심1++/등심1++_000353.jpg\n",
    "\n",
    "\n",
    "경로 설정 방법\n",
    "\n",
    "이미지 경로 설정 방법:\n",
    " - base_directory: 등급 폴더가 있는 폴더의 경로 입력\n",
    " - image_directories: 각 등급에 맞는 base_directory 안의 등급 폴더 경로 입력\n",
    "   ex) image_directories = {'등급': os.path.join(base_directory, '등급 파일 경로')}\n",
    "\n",
    "라벨 경로 설정 방법:\n",
    " - label_directory: 엑셀 라벨 파일들이 있는 폴더 경로\n",
    " - excel_files: 각 등급에 맞는 라벨 엑셀 파일이름 입력\n",
    "\n",
    "\n",
    "이미지 이름 형식: 등심1++_000001.jpg, 등심2_001234.jpg (숫자는 6자리로 패딩)\n",
    "\n",
    "csv에 저장되는 경로 예시: ./dataset/meat_dataset/등심1++_000738.jpg"
   ]
  },
  {
   "cell_type": "code",
   "execution_count": null,
   "metadata": {},
   "outputs": [],
   "source": [
    "import os\n",
    "import pandas as pd"
   ]
  },
  {
   "cell_type": "code",
   "execution_count": null,
   "metadata": {},
   "outputs": [],
   "source": [
    "def find_header_row(file_path):\n",
    "    required_columns = ['No', '등급', 'Marbling(마블링정도)', 'Color(색깔)', 'Texture(조직감)', 'Surface Moisture(표면육즙)', 'Total(기호도)']\n",
    "    \n",
    "    # 엑셀 파일을 열고 각 행을 확인\n",
    "    for i in range(20):\n",
    "        df = pd.read_excel(file_path, header=i, nrows=1)\n",
    "        if all(col in df.columns for col in required_columns):\n",
    "            return i\n",
    "    \n",
    "    raise ValueError(f\"Required columns not found in the first 20 rows of {file_path}\")"
   ]
  },
  {
   "cell_type": "code",
   "execution_count": null,
   "metadata": {},
   "outputs": [],
   "source": [
    "def process_data(base_directory, image_directories, excel_files, output_file):\n",
    "    dataframes = []\n",
    "    for file_path in excel_files:\n",
    "        try:\n",
    "            header_row = find_header_row(file_path)\n",
    "            df = pd.read_excel(file_path, header=header_row)\n",
    "            \n",
    "            df = df.dropna(subset=['No', '등급'])\n",
    "            df = df.dropna(subset=['Marbling(마블링정도)', 'Color(색깔)', 'Texture(조직감)', 'Surface Moisture(표면육즙)', 'Total(기호도)'])\n",
    "            \n",
    "            columns_to_check = ['Marbling(마블링정도)', 'Color(색깔)', 'Texture(조직감)', 'Surface Moisture(표면육즙)', 'Total(기호도)']\n",
    "            for column in columns_to_check:\n",
    "                df = df[pd.to_numeric(df[column], errors='coerce').notnull()]\n",
    "                df[column] = df[column].astype(float) * 2\n",
    "            \n",
    "            # '등급' 열을 기준으로 이미지 경로 설정\n",
    "            df['image_path'] = df.apply(lambda row: os.path.join(image_directories[row['등급']], f\"{row['등급']}_{int(row['No']):06d}.jpg\"), axis=1)\n",
    "            \n",
    "            df = df[df['image_path'].apply(os.path.exists)]\n",
    "            \n",
    "            # 유효한 파일 경로가 몇 개인지 로그 출력\n",
    "            print(f\"Filtered valid image paths for {file_path}: {len(df)} / {len(df)}\")\n",
    "            \n",
    "            dataframes.append(df)\n",
    "\n",
    "        except ValueError as e:\n",
    "            print(f\"Error processing {file_path}: {str(e)}\")\n",
    "            continue\n",
    "\n",
    "    # 모든 데이터프레임 병합\n",
    "    all_data = pd.concat(dataframes, ignore_index=True)\n",
    "    all_data.columns = all_data.columns.str.replace(r'\\(.*\\)', '', regex=True).str.strip()\n",
    "    all_data.columns = all_data.columns.str.replace(' ', '_')\n",
    "    \n",
    "    # 필요한 열만 선택 (Total 포함)\n",
    "    all_data = all_data[['No', '등급', 'Marbling', 'Color', 'Texture', 'Surface_Moisture', 'Total', 'image_path']]\n",
    "    \n",
    "    # '등급' 열 이름을 'grade'로 변경\n",
    "    all_data = all_data.rename(columns={'등급': 'grade'})\n",
    "    \n",
    "    # CSV 파일로 저장\n",
    "    all_data.to_csv(os.path.join(base_directory, output_file), index=False)\n",
    "    print(f\"Data saved to {os.path.join(base_directory, output_file)}\")\n",
    "\n",
    "    return all_data"
   ]
  },
  {
   "cell_type": "code",
   "execution_count": null,
   "metadata": {},
   "outputs": [],
   "source": [
    "base_directory = \"./meat_dataset/\"\n",
    "label_directory = \"./meat_dataset/labels\"\n",
    "output_file = \"default.csv\"\n",
    "\n",
    "# 이미지 파일 경로 설정\n",
    "image_directories = {\n",
    "    '등심1++': os.path.join(base_directory, '등심1++'),\n",
    "    '등심1+': os.path.join(base_directory, '등심1+'),\n",
    "    '등심1': os.path.join(base_directory, '등심1'),\n",
    "    '등심2': os.path.join(base_directory, '등심2'),\n",
    "    '등심3': os.path.join(base_directory, '등심3')\n",
    "}\n",
    "# 엑셀 파일 경로 설정\n",
    "excel_files = {\n",
    "    '등심1++': os.path.join(label_directory, 'label_1++.xlsx'),\n",
    "    '등심1+': os.path.join(label_directory, 'label_1+.xlsx'),\n",
    "    '등심1': os.path.join(label_directory, 'label_1.xlsx'),\n",
    "    '등심2': os.path.join(label_directory, 'label_2.xlsx'),\n",
    "    '등심3': os.path.join(label_directory, 'label_3.xlsx')\n",
    "}"
   ]
  },
  {
   "cell_type": "code",
   "execution_count": null,
   "metadata": {},
   "outputs": [],
   "source": [
    "processed_data = process_data(base_directory, image_directories, excel_files, output_file)"
   ]
  }
 ],
 "metadata": {
  "kernelspec": {
   "display_name": "venv3",
   "language": "python",
   "name": "python3"
  },
  "language_info": {
   "name": "python",
   "version": "3.12.6"
  }
 },
 "nbformat": 4,
 "nbformat_minor": 2
}
