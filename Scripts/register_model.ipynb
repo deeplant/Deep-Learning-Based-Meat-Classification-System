{
 "cells": [
  {
   "cell_type": "code",
   "execution_count": 1,
   "id": "71fdbe84",
   "metadata": {},
   "outputs": [
    {
     "name": "stderr",
     "output_type": "stream",
     "text": [
      "Registered model 'resnetv2.101x3' already exists. Creating a new version of this model...\n",
      "2024/12/21 03:39:20 INFO mlflow.store.model_registry.abstract_store: Waiting up to 300 seconds for model version to finish creation. Model name: resnetv2.101x3, version 2\n"
     ]
    },
    {
     "name": "stdout",
     "output_type": "stream",
     "text": [
      "Model registered with version: 2\n"
     ]
    },
    {
     "name": "stderr",
     "output_type": "stream",
     "text": [
      "Created version '2' of model 'resnetv2.101x3'.\n"
     ]
    }
   ],
   "source": [
    "import mlflow\n",
    "from mlflow.tracking import MlflowClient\n",
    "\n",
    "# MLflow 서버 주소 설정\n",
    "mlflow.set_tracking_uri(\"http://0.0.0.0:5000\")\n",
    "\n",
    "run_id = \"16455e1def7345e39e3bc46bb92b68bf\"  # run_id를 입력\n",
    "artifact_path = \"best_model\"  # 저장된 모델 artifact path를 입력\n",
    "\n",
    "# 모델 경로\n",
    "model_uri = f\"runs:/{run_id}/{artifact_path}\"\n",
    "\n",
    "# 모델 등록을 위한 이름\n",
    "registered_model_name = \"resnetv2.101x3\"\n",
    "\n",
    "# MLflow Client 생성\n",
    "client = MlflowClient()\n",
    "\n",
    "# 모델을 레지스트리에 등록\n",
    "result = mlflow.register_model(model_uri=model_uri, name=registered_model_name)\n",
    "\n",
    "# 등록 상태 확인\n",
    "print(f\"Model registered with version: {result.version}\")\n"
   ]
  }
 ],
 "metadata": {
  "kernelspec": {
   "display_name": "PyTorch 2.2 (NGC 23.11/Python 3.10) on Backend.AI",
   "language": "python",
   "name": "python3"
  },
  "language_info": {
   "codemirror_mode": {
    "name": "ipython",
    "version": 3
   },
   "file_extension": ".py",
   "mimetype": "text/x-python",
   "name": "python",
   "nbconvert_exporter": "python",
   "pygments_lexer": "ipython3",
   "version": "3.10.12"
  }
 },
 "nbformat": 4,
 "nbformat_minor": 5
}
