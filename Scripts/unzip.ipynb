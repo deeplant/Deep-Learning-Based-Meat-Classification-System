{
 "cells": [
  {
   "cell_type": "code",
   "execution_count": 20,
   "id": "7c1864b6",
   "metadata": {},
   "outputs": [
    {
     "name": "stdout",
     "output_type": "stream",
     "text": [
      "../dataset/meat_dataset/20240910(완).zip 파일의 압축이 ../dataset/meat_dataset/20240910/에 성공적으로 해제되었습니다.\n"
     ]
    }
   ],
   "source": [
    "import os\n",
    "import zipfile\n",
    "\n",
    "def unzip_file(zip_path, extract_path):\n",
    "    # ZIP 파일이 존재하는지 확인\n",
    "    if not os.path.exists(zip_path):\n",
    "        print(f\"오류: {zip_path} 파일을 찾을 수 없습니다.\")\n",
    "        return\n",
    "\n",
    "    # 압축 해제할 디렉토리 생성 (없는 경우)\n",
    "    os.makedirs(extract_path, exist_ok=True)\n",
    "\n",
    "    # ZIP 파일 열기\n",
    "    with zipfile.ZipFile(zip_path, 'r') as zip_ref:\n",
    "        # 모든 내용 압축 해제\n",
    "        zip_ref.extractall(extract_path)\n",
    "\n",
    "    print(f\"{zip_path} 파일의 압축이 {extract_path}에 성공적으로 해제되었습니다.\")\n",
    "\n",
    "# 사용 예시\n",
    "zip_file_path = '../dataset/meat_dataset/20240910(완).zip'  # ZIP 파일 경로\n",
    "extraction_path = '../dataset/meat_dataset/20240910/'   # 압축 해제할 경로\n",
    "\n",
    "unzip_file(zip_file_path, extraction_path)"
   ]
  }
 ],
 "metadata": {
  "kernelspec": {
   "display_name": "PyTorch 2.2 (NGC 23.11/Python 3.10) on Backend.AI",
   "language": "python",
   "name": "python3"
  },
  "language_info": {
   "codemirror_mode": {
    "name": "ipython",
    "version": 3
   },
   "file_extension": ".py",
   "mimetype": "text/x-python",
   "name": "python",
   "nbconvert_exporter": "python",
   "pygments_lexer": "ipython3",
   "version": "3.10.12"
  }
 },
 "nbformat": 4,
 "nbformat_minor": 5
}
